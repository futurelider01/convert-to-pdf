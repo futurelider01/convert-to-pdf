{
 "cells": [
  {
   "cell_type": "code",
   "execution_count": 2,
   "metadata": {},
   "outputs": [
    {
     "name": "stdout",
     "output_type": "stream",
     "text": [
      "c:\\Users\\AeroCool\\Desktop\\task\\input\\11011\\FirstDoc.docx\n",
      "c:\\Users\\AeroCool\\Desktop\\task\\input\\11011\\firstTiff.tiff\n",
      "c:\\Users\\AeroCool\\Desktop\\task\\input\\11012\\SecondDoc.doc\n",
      "c:\\Users\\AeroCool\\Desktop\\task\\input\\11012\\SecondTiff.tiff\n",
      "c:\\Users\\AeroCool\\Desktop\\task\\input\\11013\\ThirdDoc.doc\n",
      "c:\\Users\\AeroCool\\Desktop\\task\\input\\11013\\ThirdTiff.tiff\n"
     ]
    }
   ],
   "source": [
    "import os\n",
    "for dir,subdir,file in os.walk(r'c:\\Users\\AeroCool\\Desktop\\task\\input'):\n",
    "    if not subdir:\n",
    "        for f in file:\n",
    "            print(os.path.join(dir,f))\n"
   ]
  },
  {
   "cell_type": "code",
   "execution_count": 28,
   "metadata": {},
   "outputs": [
    {
     "name": "stdout",
     "output_type": "stream",
     "text": [
      "WIN-ILG2Q2MOEND\n",
      "db\n"
     ]
    }
   ],
   "source": [
    "from dotenv import dotenv_values\n",
    "config = dotenv_values(\".env\")\n",
    "server_name = config['server_name']\n",
    "database_name = config['database_name']\n",
    "print(server_name)\n",
    "print(database_name)"
   ]
  },
  {
   "cell_type": "code",
   "execution_count": null,
   "metadata": {},
   "outputs": [],
   "source": [
    "from fpdf import FPDF\n",
    "import os\n",
    "# save FPDF() class into \n",
    "# a variable pdf\n",
    "def txt2pdf(source:str, sink:str):\n",
    "    pdf = FPDF()   \n",
    "  \n",
    "    pdf.add_page()\n",
    "    \n",
    "    pdf.set_font(\"Arial\", size = 15)\n",
    "    \n",
    "    # open the text file in read mode\n",
    "\n",
    "    f = open(source, \"r\")\n",
    "    \n",
    "    # insert the texts in pdf\n",
    "    for x in f:\n",
    "        pdf.cell(200, 10, txt = x, ln = 1, align = 'C')\n",
    "    \n",
    "    # save the pdf with name .pdf\n",
    "    sink_end = os.path.basename(os.path.split(source)[0]+'_'+os.path.basename(source).split('.')[0]+'.pdf')\n",
    "    sink = os.path.join(sink,sink_end)\n",
    "    \n",
    "    pdf.output(sink)\n",
    "\n",
    "    pat_id = os.path.basename(sink).split('_')[0]\n",
    "    return (sink,pat_id)\n",
    "\n",
    "txt2pdf(r'c:\\Users\\AeroCool\\Desktop\\task\\input\\11011\\abc.txt',r'c:\\Users\\AeroCool\\Desktop\\task\\output')\n"
   ]
  },
  {
   "cell_type": "code",
   "execution_count": 4,
   "metadata": {},
   "outputs": [
    {
     "name": "stdout",
     "output_type": "stream",
     "text": [
      "<sqlalchemy.engine.cursor.CursorResult object at 0x000001DFE8392F90>\n",
      "[(1019, 11011, 'ali', 'c:\\\\Users\\\\AeroCool\\\\Desktop\\\\task\\\\output\\\\11011_abc.pdf'), (1020, 11011, 'ali', 'c:\\\\Users\\\\AeroCool\\\\Desktop\\\\task\\\\output\\\\11011_FirstDoc.pdf'), (1021, 11011, 'ali', 'c:\\\\Users\\\\AeroCool\\\\Desktop\\\\task\\\\output\\\\11011_firstTiff.pdf'), (1022, 11012, 'john', 'c:\\\\Users\\\\AeroCool\\\\Desktop\\\\task\\\\output\\\\11012_SecondTiff.pdf'), (1023, 11013, 'alex', 'c:\\\\Users\\\\AeroCool\\\\Desktop\\\\task\\\\output\\\\11013_ThirdTiff.pdf')]\n",
      "RMKeyView(['row_id', 'patient_id', 'name', 'path'])\n",
      "   row_id  patient_id  name                                               path\n",
      "0    1019       11011   ali  c:\\Users\\AeroCool\\Desktop\\task\\output\\11011_ab...\n",
      "1    1020       11011   ali  c:\\Users\\AeroCool\\Desktop\\task\\output\\11011_Fi...\n",
      "2    1021       11011   ali  c:\\Users\\AeroCool\\Desktop\\task\\output\\11011_fi...\n",
      "3    1022       11012  john  c:\\Users\\AeroCool\\Desktop\\task\\output\\11012_Se...\n",
      "4    1023       11013  alex  c:\\Users\\AeroCool\\Desktop\\task\\output\\11013_Th...\n"
     ]
    }
   ],
   "source": [
    "from sqlalchemy import create_engine, text\n",
    "import pandas as pd\n",
    "from dotenv import dotenv_values\n",
    "config = dotenv_values(\".env\")\n",
    "server_name = config['server_name']\n",
    "database_name = config['database_name']\n",
    "\n",
    "engine = create_engine(f'mssql+pyodbc://{server_name}/{database_name}?trusted_connection=yes&driver=ODBC+Driver+17+for+SQL+Server')\n",
    "\n",
    "table_name = \"merged_data\"\n",
    "query = text(f\"SELECT * FROM {table_name}\")\n",
    "\n",
    "with engine.connect() as connection:\n",
    "    result = connection.execute(query)\n",
    "    rows = result.fetchall()\n",
    "print(result)\n",
    "print(rows)\n",
    "# Load data into a Pandas DataFrame\n",
    "column_names = result.keys()\n",
    "print(column_names)\n",
    "df_tbl = pd.DataFrame(rows, columns=column_names)\n",
    "\n",
    "# Print or further process the DataFrame\n",
    "print(df_tbl)\n",
    "\n",
    "# Close the database connection\n",
    "engine.dispose()\n"
   ]
  }
 ],
 "metadata": {
  "kernelspec": {
   "display_name": "Python 3",
   "language": "python",
   "name": "python3"
  },
  "language_info": {
   "codemirror_mode": {
    "name": "ipython",
    "version": 3
   },
   "file_extension": ".py",
   "mimetype": "text/x-python",
   "name": "python",
   "nbconvert_exporter": "python",
   "pygments_lexer": "ipython3",
   "version": "3.11.3"
  },
  "orig_nbformat": 4
 },
 "nbformat": 4,
 "nbformat_minor": 2
}
