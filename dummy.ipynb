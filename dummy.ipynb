{
 "cells": [
  {
   "cell_type": "code",
   "execution_count": 6,
   "metadata": {},
   "outputs": [],
   "source": [
    "import sys\n",
    "import os,os.path\n",
    "import comtypes.client\n",
    "\n",
    "wdFormatPDF = 17\n",
    "\n",
    "input_dir = r'C:\\Users\\AeroCool\\Desktop\\task\\input'\n",
    "output_dir = r'C:\\Users\\AeroCool\\Desktop\\task\\output'\n",
    "\n",
    "for subdir, dirs, files in os.walk(input_dir):\n",
    "    for file in files:\n",
    "        in_file = os.path.join(subdir, file)\n",
    "        output_file = file.split('.')[0]\n",
    "        out_file = output_dir+output_file+'.pdf'\n",
    "        word = comtypes.client.CreateObject('Word.Application')\n",
    "\n",
    "        doc = word.Documents.Open(in_file)\n",
    "        doc.SaveAs(out_file, FileFormat=wdFormatPDF)\n",
    "        doc.Close()\n",
    "        word.Quit()"
   ]
  }
 ],
 "metadata": {
  "kernelspec": {
   "display_name": "Python 3",
   "language": "python",
   "name": "python3"
  },
  "language_info": {
   "codemirror_mode": {
    "name": "ipython",
    "version": 3
   },
   "file_extension": ".py",
   "mimetype": "text/x-python",
   "name": "python",
   "nbconvert_exporter": "python",
   "pygments_lexer": "ipython3",
   "version": "3.11.3"
  },
  "orig_nbformat": 4
 },
 "nbformat": 4,
 "nbformat_minor": 2
}
